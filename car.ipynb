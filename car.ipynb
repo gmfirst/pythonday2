{
 "cells": [
  {
   "cell_type": "code",
   "execution_count": 14,
   "id": "a4201a55",
   "metadata": {},
   "outputs": [],
   "source": [
    "class Car:\n",
    "    # Properties (คุณสมบัติของคลาส)\n",
    "    color = \"No color\" \n",
    "    brand = \"No brand\"\n",
    "    number_of_seats= 4\n",
    "    number_of_wheels = 4\n",
    "    maxspeed = 0\n",
    "    plate_id = \"\"\n",
    "\n",
    "    # Constructor\n",
    "    def __init__(self, color, brand, number_of_seats, number_of_wheels, maxspeed, plate_id):\n",
    "        self.color = color\n",
    "        self.brand = brand\n",
    "        self.number_of_seats = number_of_seats\n",
    "        self.number_of_wheels = number_of_wheels\n",
    "        self.maxspeed = maxspeed\n",
    "        self.plate_id = plate_id\n",
    "\n",
    "    # method\n",
    "    def setColor(self, x):\n",
    "        self.color = x\n",
    "\n",
    "    def setBrand(self, x):\n",
    "        self.brand = x\n",
    "\n",
    "    def setNumberOfSeats(self, x):\n",
    "        self.number_of_seats = x\n",
    "\n",
    "    def setNumberOfWheels(self, x):\n",
    "        self.number_of_wheels = x\n",
    "\n",
    "    def setMaxSpeed(self, x):\n",
    "        self.maxspeed = x\n",
    "\n",
    "    def setPlateID(self, x):\n",
    "        self.Plate_id = x\n",
    "\n",
    "    def printData(self):\n",
    "        print(\"Color: \", self.color)\n",
    "        print(\"Brand: \", self.brand)\n",
    "        print(\"Seats: \", self.number_of_seats)\n",
    "        print(\"wheels: \", self.number_of_wheels)\n",
    "        print(\"Speed: \", self.maxspeed)\n",
    "        print(\"Plate ID: \", self.plate_id)\n",
    "\n",
    "\n"
   ]
  },
  {
   "cell_type": "code",
   "execution_count": 16,
   "id": "aaa42bea",
   "metadata": {},
   "outputs": [
    {
     "ename": "ModuleNotFoundError",
     "evalue": "No module named 'car'",
     "output_type": "error",
     "traceback": [
      "\u001b[1;31m---------------------------------------------------------------------------\u001b[0m",
      "\u001b[1;31mModuleNotFoundError\u001b[0m                       Traceback (most recent call last)",
      "Input \u001b[1;32mIn [16]\u001b[0m, in \u001b[0;36m<module>\u001b[1;34m\u001b[0m\n\u001b[1;32m----> 1\u001b[0m \u001b[38;5;28;01mfrom\u001b[39;00m \u001b[38;5;21;01mcar\u001b[39;00m \u001b[38;5;28;01mimport\u001b[39;00m \u001b[38;5;241m*\u001b[39m\n",
      "\u001b[1;31mModuleNotFoundError\u001b[0m: No module named 'car'"
     ]
    }
   ],
   "source": [
    "from car import *"
   ]
  },
  {
   "cell_type": "code",
   "execution_count": 15,
   "id": "40a570d4",
   "metadata": {},
   "outputs": [
    {
     "ename": "ModuleNotFoundError",
     "evalue": "No module named 'car'",
     "output_type": "error",
     "traceback": [
      "\u001b[1;31m---------------------------------------------------------------------------\u001b[0m",
      "\u001b[1;31mModuleNotFoundError\u001b[0m                       Traceback (most recent call last)",
      "Input \u001b[1;32mIn [15]\u001b[0m, in \u001b[0;36m<module>\u001b[1;34m\u001b[0m\n\u001b[1;32m----> 1\u001b[0m \u001b[38;5;28;01mimport\u001b[39;00m \u001b[38;5;21;01mcar\u001b[39;00m\n",
      "\u001b[1;31mModuleNotFoundError\u001b[0m: No module named 'car'"
     ]
    }
   ],
   "source": [
    "import car"
   ]
  }
 ],
 "metadata": {
  "kernelspec": {
   "display_name": "Python 3 (ipykernel)",
   "language": "python",
   "name": "python3"
  },
  "language_info": {
   "codemirror_mode": {
    "name": "ipython",
    "version": 3
   },
   "file_extension": ".py",
   "mimetype": "text/x-python",
   "name": "python",
   "nbconvert_exporter": "python",
   "pygments_lexer": "ipython3",
   "version": "3.10.1"
  }
 },
 "nbformat": 4,
 "nbformat_minor": 5
}
