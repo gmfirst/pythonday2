{
 "cells": [
  {
   "cell_type": "code",
   "execution_count": null,
   "id": "f0f38a0f",
   "metadata": {},
   "outputs": [],
   "source": [
    "def show_message(msg):\n",
    "    print(msg)\n",
    "    \n",
    "show_message(\"Hi Jupyter\")"
   ]
  },
  {
   "cell_type": "code",
   "execution_count": null,
   "id": "59bbc48f",
   "metadata": {},
   "outputs": [],
   "source": [
    "print (\"Hello Python Notebook\")\n",
    "print (\"สวัสดีครับ\")\n",
    "print (2**3)"
   ]
  },
  {
   "cell_type": "code",
   "execution_count": null,
   "id": "80cc1cd6",
   "metadata": {},
   "outputs": [],
   "source": [
    "print(1+2)"
   ]
  }
 ],
 "metadata": {
  "kernelspec": {
   "display_name": "Python 3 (ipykernel)",
   "language": "python",
   "name": "python3"
  },
  "language_info": {
   "codemirror_mode": {
    "name": "ipython",
    "version": 3
   },
   "file_extension": ".py",
   "mimetype": "text/x-python",
   "name": "python",
   "nbconvert_exporter": "python",
   "pygments_lexer": "ipython3",
   "version": "3.10.1"
  }
 },
 "nbformat": 4,
 "nbformat_minor": 5
}
